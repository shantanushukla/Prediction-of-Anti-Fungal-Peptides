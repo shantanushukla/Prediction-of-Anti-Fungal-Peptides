{
 "cells": [
  {
   "cell_type": "code",
   "execution_count": 496,
   "metadata": {},
   "outputs": [],
   "source": [
    "import pandas as pd\n",
    "import numpy as np\n",
    "import scipy.stats as stats\n",
    "from sklearn.feature_selection import RFE\n",
    "from sklearn.model_selection import train_test_split\n",
    "from sklearn import svm"
   ]
  },
  {
   "cell_type": "code",
   "execution_count": 497,
   "metadata": {},
   "outputs": [
    {
     "data": {
      "text/html": [
       "<div>\n",
       "<style scoped>\n",
       "    .dataframe tbody tr th:only-of-type {\n",
       "        vertical-align: middle;\n",
       "    }\n",
       "\n",
       "    .dataframe tbody tr th {\n",
       "        vertical-align: top;\n",
       "    }\n",
       "\n",
       "    .dataframe thead th {\n",
       "        text-align: right;\n",
       "    }\n",
       "</style>\n",
       "<table border=\"1\" class=\"dataframe\">\n",
       "  <thead>\n",
       "    <tr style=\"text-align: right;\">\n",
       "      <th></th>\n",
       "      <th>ID</th>\n",
       "      <th>Lable</th>\n",
       "      <th>Sequence</th>\n",
       "    </tr>\n",
       "  </thead>\n",
       "  <tbody>\n",
       "    <tr>\n",
       "      <th>0</th>\n",
       "      <td>1001</td>\n",
       "      <td>-1</td>\n",
       "      <td>GGTIFDCGESCFLGTCYTKGCSCGEWKLCYGTN</td>\n",
       "    </tr>\n",
       "    <tr>\n",
       "      <th>1</th>\n",
       "      <td>1002</td>\n",
       "      <td>1</td>\n",
       "      <td>LEKARHGSCNYVFPA</td>\n",
       "    </tr>\n",
       "    <tr>\n",
       "      <th>2</th>\n",
       "      <td>1003</td>\n",
       "      <td>1</td>\n",
       "      <td>KQLKTCTSVIKLGHPCDIESCLNECFRVYNTGFATCRGDKYSQLCT...</td>\n",
       "    </tr>\n",
       "    <tr>\n",
       "      <th>3</th>\n",
       "      <td>1004</td>\n",
       "      <td>1</td>\n",
       "      <td>SMVAEARTCESQSHKFKGPCASDHNCASVCQTERFSGGHCRGFRRR...</td>\n",
       "    </tr>\n",
       "    <tr>\n",
       "      <th>4</th>\n",
       "      <td>1005</td>\n",
       "      <td>1</td>\n",
       "      <td>AKKRKKKTYTKPKKIKHKHKKVKLAVLQFYKIDGSGKVQRLRKECP...</td>\n",
       "    </tr>\n",
       "  </tbody>\n",
       "</table>\n",
       "</div>"
      ],
      "text/plain": [
       "     ID Lable                                           Sequence\n",
       "0  1001    -1                  GGTIFDCGESCFLGTCYTKGCSCGEWKLCYGTN\n",
       "1  1002     1                                    LEKARHGSCNYVFPA\n",
       "2  1003     1  KQLKTCTSVIKLGHPCDIESCLNECFRVYNTGFATCRGDKYSQLCT...\n",
       "3  1004     1  SMVAEARTCESQSHKFKGPCASDHNCASVCQTERFSGGHCRGFRRR...\n",
       "4  1005     1  AKKRKKKTYTKPKKIKHKHKKVKLAVLQFYKIDGSGKVQRLRKECP..."
      ]
     },
     "execution_count": 497,
     "metadata": {},
     "output_type": "execute_result"
    }
   ],
   "source": [
    "df = pd.read_csv('train.csv')\n",
    "df.head()"
   ]
  },
  {
   "cell_type": "code",
   "execution_count": 498,
   "metadata": {},
   "outputs": [],
   "source": [
    "seq = df.iloc[:,2]"
   ]
  },
  {
   "cell_type": "code",
   "execution_count": 499,
   "metadata": {},
   "outputs": [],
   "source": [
    "X = pd.read_csv('dipeptide_composition.csv')\n",
    "X_chem = pd.read_csv('physico-chemical.csv')"
   ]
  },
  {
   "cell_type": "code",
   "execution_count": 500,
   "metadata": {},
   "outputs": [],
   "source": [
    "X = pd.merge(X, X_chem, on='ID',  how='outer')"
   ]
  },
  {
   "cell_type": "code",
   "execution_count": 501,
   "metadata": {},
   "outputs": [],
   "source": [
    "y = df.iloc[:,1]"
   ]
  },
  {
   "cell_type": "code",
   "execution_count": 502,
   "metadata": {},
   "outputs": [],
   "source": [
    "X = X.drop(['ID'], axis = 1)"
   ]
  },
  {
   "cell_type": "code",
   "execution_count": 503,
   "metadata": {},
   "outputs": [],
   "source": [
    "X_train, X_test, y_train, y_test = train_test_split(X, y, test_size = 0.25)"
   ]
  },
  {
   "cell_type": "code",
   "execution_count": 504,
   "metadata": {},
   "outputs": [],
   "source": [
    "from sklearn.ensemble import RandomForestClassifier"
   ]
  },
  {
   "cell_type": "code",
   "execution_count": 505,
   "metadata": {},
   "outputs": [],
   "source": [
    "clf = RandomForestClassifier(n_estimators=500)"
   ]
  },
  {
   "cell_type": "code",
   "execution_count": 506,
   "metadata": {},
   "outputs": [],
   "source": [
    "clf = clf.fit(X_train, y_train)"
   ]
  },
  {
   "cell_type": "code",
   "execution_count": 507,
   "metadata": {},
   "outputs": [
    {
     "data": {
      "text/plain": [
       "0.8761755485893417"
      ]
     },
     "execution_count": 507,
     "metadata": {},
     "output_type": "execute_result"
    }
   ],
   "source": [
    "clf.score(X_test,y_test)"
   ]
  },
  {
   "cell_type": "code",
   "execution_count": 508,
   "metadata": {},
   "outputs": [],
   "source": [
    "X_sub = pd.read_csv('dipeptide_test.csv')\n",
    "X_sub_chem = pd.read_csv('physico-chemical_test.csv')\n",
    "X_sub = pd.merge(X_sub, X_sub_chem, on='ID',  how='outer')"
   ]
  },
  {
   "cell_type": "code",
   "execution_count": 509,
   "metadata": {},
   "outputs": [],
   "source": [
    "X_sub = X_sub.drop(['ID'], axis = 1)\n",
    "y_sub = clf.predict(X_sub)"
   ]
  },
  {
   "cell_type": "code",
   "execution_count": 510,
   "metadata": {},
   "outputs": [
    {
     "data": {
      "text/plain": [
       "array(['1', '1', '1', '-1', '1', '1', '-1', '-1', '1', '1', '1', '1', '1',\n",
       "       '-1', '1', '-1', '-1', '1', '-1', '-1', '1', '1', '1', '1', '1',\n",
       "       '1', '-1', '1', '1', '1', '1', '1', '1', '1', '-1', '-1', '1',\n",
       "       '-1', '-1', '-1', '1', '1', '1', '-1', '1', '-1', '-1', '-1', '1',\n",
       "       '-1', '1', '-1', '-1', '1', '1', '-1', '1', '-1', '-1', '-1', '1',\n",
       "       '-1', '-1', '-1', '-1', '1', '-1', '1', '1', '1', '1', '1', '1',\n",
       "       '-1', '-1', '1', '1', '-1', '-1', '1', '1', '-1', '-1', '-1', '-1',\n",
       "       '-1', '1', '1', '1', '-1', '-1', '1', '-1', '-1', '1', '1', '1',\n",
       "       '-1', '1', '-1', '1', '1', '1', '-1', '-1', '1', '1', '1', '1',\n",
       "       '-1', '-1', '1', '-1', '-1', '1', '1', '1', '-1', '-1', '-1', '-1',\n",
       "       '1', '-1', '-1', '-1', '-1', '-1', '-1', '-1', '-1', '1', '1', '1',\n",
       "       '1', '-1', '-1', '-1', '1', '-1', '1', '1', '-1', '-1', '1', '-1',\n",
       "       '-1', '1', '-1', '1', '1', '1', '-1', '1', '-1', '1', '-1', '-1',\n",
       "       '-1', '1', '1', '-1', '1', '-1', '1', '1', '1', '-1', '-1', '1',\n",
       "       '1', '-1', '1', '-1', '1', '-1', '1', '-1', '-1', '1', '-1', '-1',\n",
       "       '-1', '1', '-1', '1', '-1', '-1', '1', '-1', '1', '1', '-1', '-1',\n",
       "       '-1', '-1', '1', '1', '1', '-1', '1', '1', '1', '-1', '-1', '1',\n",
       "       '1', '1', '-1', '1', '-1', '-1', '-1', '-1', '1', '-1', '-1', '-1',\n",
       "       '-1', '1', '-1', '1', '-1', '1', '1', '-1', '-1', '-1', '-1', '1',\n",
       "       '1', '1', '1', '-1', '1', '-1', '1', '-1', '1', '-1', '-1', '1',\n",
       "       '-1', '-1', '-1', '1', '1', '1', '-1', '1', '1', '-1', '-1', '1',\n",
       "       '1', '1', '1', '1', '1', '1', '-1', '-1', '-1', '1', '-1', '-1',\n",
       "       '1', '1', '1', '-1', '1', '-1', '1', '-1', '1', '1', '-1', '-1',\n",
       "       '1', '1', '-1', '-1', '-1', '-1', '1', '-1', '-1', '-1', '-1', '1',\n",
       "       '-1', '-1', '1', '1', '-1', '-1', '-1', '-1', '1', '-1', '-1', '1',\n",
       "       '-1', '-1', '1', '1', '-1', '-1', '1', '1', '1', '-1', '-1', '-1',\n",
       "       '-1', '1', '1', '1', '1', '-1', '1', '-1', '1', '-1', '-1', '1',\n",
       "       '-1', '-1', '1', '1', '1', '1', '1', '-1', '1', '1', '-1', '-1',\n",
       "       '1', '-1', '1', '-1', '1', '-1', '-1', '1', '1', '1', '-1', '1',\n",
       "       '1', '1', '1', '1', '-1', '1', '1', '-1', '1', '-1', '1', '-1',\n",
       "       '1', '-1', '-1', '1', '-1', '-1', '1'], dtype=object)"
      ]
     },
     "execution_count": 510,
     "metadata": {},
     "output_type": "execute_result"
    }
   ],
   "source": [
    "y_sub"
   ]
  },
  {
   "cell_type": "code",
   "execution_count": 511,
   "metadata": {},
   "outputs": [],
   "source": [
    "import csv"
   ]
  },
  {
   "cell_type": "code",
   "execution_count": 512,
   "metadata": {},
   "outputs": [],
   "source": [
    "f = open(\"ans.csv\", \"w\")\n",
    "writer = csv.DictWriter(\n",
    "    f, fieldnames=[\"ID\", \"Label\"])\n",
    "writer.writeheader()\n",
    "f.close()"
   ]
  },
  {
   "cell_type": "code",
   "execution_count": 513,
   "metadata": {},
   "outputs": [],
   "source": [
    "id = 3551\n",
    "with open('ans.csv', 'a', newline='') as f:\n",
    "    writer = csv.writer(f)\n",
    "    for row in y_sub:\n",
    "        writer.writerow([id, row])\n",
    "        id = id + 1\n",
    "f.close()"
   ]
  },
  {
   "cell_type": "code",
   "execution_count": null,
   "metadata": {},
   "outputs": [],
   "source": []
  }
 ],
 "metadata": {
  "kernelspec": {
   "display_name": "Python 3",
   "language": "python",
   "name": "python3"
  },
  "language_info": {
   "codemirror_mode": {
    "name": "ipython",
    "version": 3
   },
   "file_extension": ".py",
   "mimetype": "text/x-python",
   "name": "python",
   "nbconvert_exporter": "python",
   "pygments_lexer": "ipython3",
   "version": "3.7.0"
  }
 },
 "nbformat": 4,
 "nbformat_minor": 4
}
